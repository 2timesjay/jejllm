{
 "cells": [
  {
   "cell_type": "code",
   "execution_count": 2,
   "metadata": {},
   "outputs": [],
   "source": [
    "with open(\"../data/the-verdict.txt\", \"r\", encoding=\"utf-8\") as f:\n",
    "    raw_text = f.read()"
   ]
  },
  {
   "cell_type": "code",
   "execution_count": 3,
   "metadata": {},
   "outputs": [
    {
     "name": "stdout",
     "output_type": "stream",
     "text": [
      "Total number of characters:  20479\n",
      "I HAD always thought Jack Gisburn rather a cheap genius--though a good fellow enough--so it was no \n"
     ]
    }
   ],
   "source": [
    "print(\"Total number of characters: \", len(raw_text))\n",
    "print(raw_text[:99])"
   ]
  },
  {
   "cell_type": "code",
   "execution_count": 5,
   "metadata": {},
   "outputs": [
    {
     "name": "stdout",
     "output_type": "stream",
     "text": [
      "['I', 'HAD', 'always', 'thought', 'Jack', 'Gisburn', 'rather', 'a', 'cheap', 'genius', '--', 'though', 'a', 'good', 'fellow', 'enough', '--', 'so', 'it', 'was', 'no']\n"
     ]
    }
   ],
   "source": [
    "import re\n",
    "sample_text = raw_text[:99]\n",
    "result = re.split(r'([,.:;?_!\"()\\']|--|\\s)', sample_text)\n",
    "result = [item.strip() for item in result if item.strip()]\n",
    "print(result)"
   ]
  },
  {
   "cell_type": "code",
   "execution_count": 56,
   "metadata": {},
   "outputs": [],
   "source": [
    "from collections import defaultdict\n",
    "\n",
    "def _split_text(text):\n",
    "    result = re.split(r'([,.:;?_!\"()\\']|--|\\s)', text)\n",
    "    return [item.strip() for item in result if item.strip()]\n",
    "\n",
    "END_TOKEN = \"<|endoftext|>\"\n",
    "UNK_TOKEN = \"<|unk|>\"\n",
    "\n",
    "class Tokenizer:\n",
    "    def __init__(self, base_text):\n",
    "        all_tokens = set(_split_text(base_text))\n",
    "        self.ordered_tokens = sorted(all_tokens)\n",
    "        self.ordered_tokens.insert(0, UNK_TOKEN)\n",
    "        self.ordered_tokens.insert(1, END_TOKEN)\n",
    "        self.tokens_dict = defaultdict(\n",
    "            lambda: 0,  # 0 is the index of the UNK token\n",
    "            {token: index for index, token in enumerate(self.ordered_tokens)}\n",
    "        )\n",
    "\n",
    "    def encode(self, text: str) -> list[int]:\n",
    "        return [self.tokens_dict[token] for token in _split_text(text)] + [1]\n",
    "    \n",
    "    def decode(self, tokens: list[int]) -> str:\n",
    "        text = \" \".join([self.ordered_tokens[token] for token in tokens])\n",
    "        text = re.sub(r'\\s+([,.?!\"()\\'])', r'\\1', text)\n",
    "        text = re.sub(r'\\s+(--)\\s+', r'\\1', text)\n",
    "        return text"
   ]
  },
  {
   "cell_type": "code",
   "execution_count": 59,
   "metadata": {},
   "outputs": [
    {
     "name": "stdout",
     "output_type": "stream",
     "text": [
      "I HAD always thought Jack Gisburn rather a cheap genius--though a good fellow enough--so it was no \n",
      "I HAD always thought Jack Gisburn rather a cheap genius--though a good fellow enough--so it was no <|endoftext|>\n"
     ]
    }
   ],
   "source": [
    "tokenizer = Tokenizer(raw_text)\n",
    "tokens = tokenizer.encode(sample_text)\n",
    "reconstructed_sample_text = tokenizer.decode(tokens)\n",
    "print(sample_text)\n",
    "print(reconstructed_sample_text)"
   ]
  },
  {
   "cell_type": "code",
   "execution_count": null,
   "metadata": {},
   "outputs": [],
   "source": []
  },
  {
   "cell_type": "code",
   "execution_count": null,
   "metadata": {},
   "outputs": [],
   "source": []
  }
 ],
 "metadata": {
  "kernelspec": {
   "display_name": "jejllm",
   "language": "python",
   "name": "python3"
  },
  "language_info": {
   "codemirror_mode": {
    "name": "ipython",
    "version": 3
   },
   "file_extension": ".py",
   "mimetype": "text/x-python",
   "name": "python",
   "nbconvert_exporter": "python",
   "pygments_lexer": "ipython3",
   "version": "3.11.4"
  }
 },
 "nbformat": 4,
 "nbformat_minor": 2
}
